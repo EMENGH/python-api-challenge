{
 "cells": [
  {
   "cell_type": "markdown",
   "metadata": {},
   "source": [
    "# WeatherPy\n",
    "----\n",
    "\n",
    "#### Note\n",
    "* Instructions have been included for each segment. You do not have to follow them exactly, but they are included to help you think through the steps."
   ]
  },
  {
   "cell_type": "code",
   "execution_count": 5,
   "metadata": {
    "scrolled": true
   },
   "outputs": [],
   "source": [
    "# Dependencies and Setup\n",
    "import os\n",
    "import matplotlib.pyplot as plt\n",
    "import pandas as pd\n",
    "import numpy as np\n",
    "import requests\n",
    "import time\n",
    "from scipy.stats import linregress\n",
    "from scipy import stats\n",
    "import random\n",
    "import json\n",
    "\n",
    "# Import API key\n",
    "from api_keys import weather_api_key\n",
    "\n",
    "# Incorporated citipy to determine city based on latitude and longitude\n",
    "from citipy import citipy\n",
    "\n",
    "# Output File (CSV)\n",
    "output_data_file = \"output_data/cities.csv\"\n",
    "\n",
    "# Range of latitudes and longitudes\n",
    "lat_range = (-90, 90)\n",
    "lng_range = (-180, 180)"
   ]
  },
  {
   "cell_type": "markdown",
   "metadata": {},
   "source": [
    "## Generate Cities List"
   ]
  },
  {
   "cell_type": "code",
   "execution_count": 6,
   "metadata": {},
   "outputs": [
    {
     "data": {
      "text/plain": [
       "628"
      ]
     },
     "execution_count": 6,
     "metadata": {},
     "output_type": "execute_result"
    }
   ],
   "source": [
    "# List for holding lat_lngs and cities\n",
    "lat_lngs = []\n",
    "cities = []\n",
    "\n",
    "# Create a set of random lat and lng combinations\n",
    "lats = np.random.uniform(low=-90.000, high=90.000, size=1500)\n",
    "lngs = np.random.uniform(low=-180.000, high=180.000, size=1500)\n",
    "lat_lngs = zip(lats, lngs)\n",
    "\n",
    "# Identify nearest city for each lat, lng combination\n",
    "for lat_lng in lat_lngs:\n",
    "    city = citipy.nearest_city(lat_lng[0], lat_lng[1]).city_name\n",
    "\n",
    "   # city = city.replace(\" \", \"%20\")\n",
    "    # If the city is unique, then add it to a our cities list\n",
    "    if city not in cities:\n",
    "        cities.append(city)\n",
    "\n",
    "# Print the city count to confirm sufficient count\n",
    "len(cities)"
   ]
  },
  {
   "cell_type": "code",
   "execution_count": 7,
   "metadata": {},
   "outputs": [
    {
     "name": "stdout",
     "output_type": "stream",
     "text": [
      "downloading weather info for each selected city\n",
      "Downloading Record ....1 .... Country: UY ....City: chuy\n",
      "Downloading Record ....2 .... Country: ID ....City: ambulu\n",
      "Downloading Record ....3 .... Country: IS ....City: husavik\n",
      "Downloading Record ....4 .... Country: AU ....City: bundaberg\n",
      "Downloading Record ....5 .... Country: YT ....City: bandrele\n",
      "Downloading Record ....6 .... Country: NZ ....City: tuatapere\n",
      "Downloading Record ....7 .... Country: US ....City: barrow\n",
      "Downloading Record ....8 .... Country: NZ ....City: bluff\n",
      "Downloading Record ....9 .... Country: CN ....City: hami\n",
      "Downloading Record ....10 .... Country: KI ....City: butaritari\n",
      "Downloading Record ....11 .... Country: PF ....City: rikitea\n",
      "Downloading Record ....12 .... Country: RU ....City: khatanga\n",
      "Downloading Record ....13 .... Country: BB ....City: bridgetown\n",
      "Downloading Record ....14 .... Country: TO ....City: vaini\n",
      "Downloading Record ....15 .... Country: PE ....City: hualmay\n",
      "Downloading Record ....16 .... Country: ZA ....City: bredasdorp\n",
      "Downloading Record ....17 .... Country: AU ....City: hobart\n",
      "Downloading Record ....18 .... Country: RE ....City: saint-philippe\n",
      "Downloading Record ....19 .... Country: NZ ....City: dunedin\n",
      "Downloading Record ....20 .... Country: ZA ....City: port alfred\n"
     ]
    }
   ],
   "source": [
    "#api_key = weather_api_key\n",
    "url = \"http://api.openweathermap.org/data/2.5/weather?\"\n",
    "units = \"imperial\"\n",
    "\n",
    "query_url = f\"{url}appid={weather_api_key}&units={units}&q=\"\n",
    "response = requests.get(query_url + \"London\").json()\n",
    "\n",
    "print(f\"downloading weather info for each selected city\")\n",
    "\n",
    "#creating holders for each of the fields to be received from the api call\n",
    "\n",
    "cloudiness_array = []\n",
    "country_array = []\n",
    "date_array = []\n",
    "humidity_array = []\n",
    "lat_array = []\n",
    "lng_array = []\n",
    "max_temp_array = []\n",
    "wind_speed_array = []\n",
    "city_name_array = []\n",
    "\n",
    "#create a counter for the received records starting with first record\n",
    "city_ctr = 1\n",
    "\n",
    "# Create a loop to store each record in the allocated arrays. This process could have been done in one step\n",
    "# but to have clean code has been separated in getting the response first and then add it to the array.\n",
    "for city in cities[:20]:\n",
    "     response = requests.get(query_url + city).json() \n",
    "  \n",
    "     try:         \n",
    "        Cloudiness = response[\"clouds\"][\"all\"]  \n",
    "        Country = response[\"sys\"][\"country\"]\n",
    "        Date = response[\"dt\"]        \n",
    "        Humidity = response[\"main\"][\"humidity\"]\n",
    "        Lat = response[\"coord\"][\"lat\"]\n",
    "        Lng = response[\"coord\"][\"lon\"]\n",
    "        Temp_Max = response[\"main\"][\"temp_max\"]\n",
    "        Wind_Speed = response[\"wind\"][\"speed\"]\n",
    "        \n",
    "        cloudiness_array.append(Cloudiness)\n",
    "        country_array.append(Country)\n",
    "        date_array.append(Date)\n",
    "        humidity_array.append(Humidity)\n",
    "        lat_array.append(Lat)\n",
    "        lng_array.append(Lng)\n",
    "        max_temp_array.append(Temp_Max)        \n",
    "        wind_speed_array.append(Wind_Speed)\n",
    "        city_name_array.append(city)\n",
    "    \n",
    "        #printing incoming records as they are downloaded\n",
    "        print(f\"Downloading Record ....{city_ctr} .... Country: {Country} ....City: {city}\")\n",
    "                                 \n",
    "        # Increase counter by one \n",
    "        city_ctr += 1\n",
    "        \n",
    "        # create intervals of 1.2 between records to slow down the process from the api and avoid locking issues \n",
    "        time.sleep(0.5)\n",
    "        \n",
    "     #if no record is found then print an error message and continue    \n",
    "     except:\n",
    "         print(\"record not found\")\n",
    "        # continue\n",
    "        "
   ]
  },
  {
   "cell_type": "markdown",
   "metadata": {},
   "source": [
    "### Convert Raw Data to DataFrame\n",
    "* Export the city data into a .csv.\n",
    "* Display the DataFrame"
   ]
  },
  {
   "cell_type": "code",
   "execution_count": 8,
   "metadata": {},
   "outputs": [
    {
     "data": {
      "text/html": [
       "<div>\n",
       "<style scoped>\n",
       "    .dataframe tbody tr th:only-of-type {\n",
       "        vertical-align: middle;\n",
       "    }\n",
       "\n",
       "    .dataframe tbody tr th {\n",
       "        vertical-align: top;\n",
       "    }\n",
       "\n",
       "    .dataframe thead th {\n",
       "        text-align: right;\n",
       "    }\n",
       "</style>\n",
       "<table border=\"1\" class=\"dataframe\">\n",
       "  <thead>\n",
       "    <tr style=\"text-align: right;\">\n",
       "      <th></th>\n",
       "      <th>City</th>\n",
       "      <th>Cloudiness</th>\n",
       "      <th>Country</th>\n",
       "      <th>Date</th>\n",
       "      <th>Humidity</th>\n",
       "      <th>Lat</th>\n",
       "      <th>Lng</th>\n",
       "      <th>Max Temp</th>\n",
       "      <th>Wind Speed</th>\n",
       "    </tr>\n",
       "  </thead>\n",
       "  <tbody>\n",
       "    <tr>\n",
       "      <th>15</th>\n",
       "      <td>bredasdorp</td>\n",
       "      <td>91</td>\n",
       "      <td>ZA</td>\n",
       "      <td>1587401454</td>\n",
       "      <td>63</td>\n",
       "      <td>-34.53</td>\n",
       "      <td>20.04</td>\n",
       "      <td>64.40</td>\n",
       "      <td>18.34</td>\n",
       "    </tr>\n",
       "    <tr>\n",
       "      <th>16</th>\n",
       "      <td>hobart</td>\n",
       "      <td>90</td>\n",
       "      <td>AU</td>\n",
       "      <td>1587401454</td>\n",
       "      <td>57</td>\n",
       "      <td>-42.88</td>\n",
       "      <td>147.33</td>\n",
       "      <td>52.00</td>\n",
       "      <td>9.17</td>\n",
       "    </tr>\n",
       "    <tr>\n",
       "      <th>17</th>\n",
       "      <td>saint-philippe</td>\n",
       "      <td>65</td>\n",
       "      <td>RE</td>\n",
       "      <td>1587401455</td>\n",
       "      <td>69</td>\n",
       "      <td>-21.36</td>\n",
       "      <td>55.77</td>\n",
       "      <td>77.00</td>\n",
       "      <td>16.11</td>\n",
       "    </tr>\n",
       "    <tr>\n",
       "      <th>18</th>\n",
       "      <td>dunedin</td>\n",
       "      <td>69</td>\n",
       "      <td>NZ</td>\n",
       "      <td>1587401457</td>\n",
       "      <td>75</td>\n",
       "      <td>-45.87</td>\n",
       "      <td>170.50</td>\n",
       "      <td>50.00</td>\n",
       "      <td>6.46</td>\n",
       "    </tr>\n",
       "    <tr>\n",
       "      <th>19</th>\n",
       "      <td>port alfred</td>\n",
       "      <td>24</td>\n",
       "      <td>ZA</td>\n",
       "      <td>1587401335</td>\n",
       "      <td>91</td>\n",
       "      <td>-33.59</td>\n",
       "      <td>26.89</td>\n",
       "      <td>66.99</td>\n",
       "      <td>14.14</td>\n",
       "    </tr>\n",
       "  </tbody>\n",
       "</table>\n",
       "</div>"
      ],
      "text/plain": [
       "              City  Cloudiness Country        Date  Humidity    Lat     Lng  \\\n",
       "15      bredasdorp          91      ZA  1587401454        63 -34.53   20.04   \n",
       "16          hobart          90      AU  1587401454        57 -42.88  147.33   \n",
       "17  saint-philippe          65      RE  1587401455        69 -21.36   55.77   \n",
       "18         dunedin          69      NZ  1587401457        75 -45.87  170.50   \n",
       "19     port alfred          24      ZA  1587401335        91 -33.59   26.89   \n",
       "\n",
       "    Max Temp  Wind Speed  \n",
       "15     64.40       18.34  \n",
       "16     52.00        9.17  \n",
       "17     77.00       16.11  \n",
       "18     50.00        6.46  \n",
       "19     66.99       14.14  "
      ]
     },
     "execution_count": 8,
     "metadata": {},
     "output_type": "execute_result"
    }
   ],
   "source": [
    "#create dictionary\n",
    "city_data_dictionary1 = {\n",
    "    \"City\": city_name_array,\n",
    "    \"Cloudiness\":cloudiness_array, \n",
    "    \"Country\":country_array,\n",
    "    \"Date\":date_array, \n",
    "    \"Humidity\": humidity_array,\n",
    "    \"Lat\":lat_array, \n",
    "    \"Lng\":lng_array, \n",
    "    \"Max Temp\": max_temp_array,\n",
    "    \"Wind Speed\":wind_speed_array\n",
    "}\n",
    "\n",
    "#create data frame from dictionary\n",
    "city_data1 = pd.DataFrame(city_data_dictionary1)\n",
    "city_data1.count()\n",
    "\n",
    "#store data in output csv file\n",
    "city_data1.to_csv(\"../output_data/city_data1.csv\")\n",
    "\n",
    "# Display data frame head \n",
    "city_data1.tail()"
   ]
  },
  {
   "cell_type": "code",
   "execution_count": null,
   "metadata": {},
   "outputs": [],
   "source": []
  },
  {
   "cell_type": "markdown",
   "metadata": {},
   "source": [
    "### Plotting the Data\n",
    "* Use proper labeling of the plots using plot titles (including date of analysis) and axes labels.\n",
    "* Save the plotted figures as .pngs."
   ]
  },
  {
   "cell_type": "markdown",
   "metadata": {},
   "source": [
    "#### Latitude vs. Temperature Plot"
   ]
  },
  {
   "cell_type": "code",
   "execution_count": 9,
   "metadata": {
    "scrolled": true
   },
   "outputs": [
    {
     "data": {
      "image/png": "[encoded data removed]",
      "text/plain": [
       "<Figure size 432x288 with 1 Axes>"
      ]
     },
     "metadata": {
      "needs_background": "light"
     },
     "output_type": "display_data"
    }
   ],
   "source": [
    "plt.scatter(city_data1[\"Lat\"], city_data1[\"Max Temp\"], marker=\"o\", s=20)\n",
    "\n",
    "plt.title(\"City Temperature (F) vs. City Latitude\")\n",
    "plt.ylabel(\"Maximum Temperature (F)\")\n",
    "plt.xlabel(\"Latitude\")\n",
    "plt.grid(True)\n",
    "plt.savefig(\"../output_data/Temperature_vs_Latitude.png\")\n",
    "plt.show()"
   ]
  },
  {
   "cell_type": "markdown",
   "metadata": {},
   "source": [
    "#### Latitude vs. Humidity Plot"
   ]
  },
  {
   "cell_type": "code",
   "execution_count": 10,
   "metadata": {},
   "outputs": [
    {
     "data": {
      "image/png": "[encoded data removed]",
      "text/plain": [
       "<Figure size 432x288 with 1 Axes>"
      ]
     },
     "metadata": {
      "needs_background": "light"
     },
     "output_type": "display_data"
    }
   ],
   "source": [
    "plt.scatter(city_data1[\"Lat\"], city_data1[\"Humidity\"], marker=\"o\", s=20)\n",
    "\n",
    "plt.title(\"City Humidity (F) vs. City Latitude\")\n",
    "plt.ylabel(\"Humidity\")\n",
    "plt.xlabel(\"Latitude\")\n",
    "plt.grid(True)\n",
    "plt.savefig(\"../output_data/latitude_vs_humidity.png\")\n",
    "plt.show()"
   ]
  },
  {
   "cell_type": "markdown",
   "metadata": {},
   "source": [
    "#### Latitude vs. Cloudiness Plot"
   ]
  },
  {
   "cell_type": "code",
   "execution_count": 11,
   "metadata": {},
   "outputs": [
    {
     "data": {
      "image/png": "[encoded data removed]",
      "text/plain": [
       "<Figure size 432x288 with 1 Axes>"
      ]
     },
     "metadata": {
      "needs_background": "light"
     },
     "output_type": "display_data"
    }
   ],
   "source": [
    "ts = time.gmtime(city_data1['Date'][0])\n",
    "datestr = time.strftime(\"%x\",ts)\n",
    "\n",
    "plt.scatter(city_data1[\"Lat\"], city_data1[\"Cloudiness\"], marker=\"o\", s=20)\n",
    "\n",
    "plt.title(\"City Cloudiness vs. City Latitude\")\n",
    "plt.ylabel(\"Cloudiness\")\n",
    "plt.xlabel(\"Latitude\")\n",
    "plt.grid(True)\n",
    "plt.savefig(\"../output_data/latitude_vs_Cloudiness.png\")\n",
    "plt.show()"
   ]
  },
  {
   "cell_type": "markdown",
   "metadata": {},
   "source": [
    "#### Latitude vs. Wind Speed Plot"
   ]
  },
  {
   "cell_type": "code",
   "execution_count": 12,
   "metadata": {},
   "outputs": [
    {
     "data": {
      "image/png": "[encoded data removed]",
      "text/plain": [
       "<Figure size 432x288 with 1 Axes>"
      ]
     },
     "metadata": {
      "needs_background": "light"
     },
     "output_type": "display_data"
    }
   ],
   "source": [
    "plt.scatter(city_data1[\"Lat\"], city_data1[\"Wind Speed\"], marker=\"o\", s=20)\n",
    "\n",
    "plt.title(\"City Wind Speed vs. City Latitude\")\n",
    "plt.ylabel(\"Wind Speed\")\n",
    "plt.xlabel(\"Latitude\")\n",
    "plt.grid(True)\n",
    "plt.savefig(\"../output_data/latitude_vs_wind_speed.png\")\n",
    "plt.show()"
   ]
  },
  {
   "cell_type": "markdown",
   "metadata": {},
   "source": [
    "## Linear Regression"
   ]
  },
  {
   "cell_type": "code",
   "execution_count": 75,
   "metadata": {},
   "outputs": [],
   "source": [
    "#create data frame from dictionary\n",
    "lin_reg_df = pd.DataFrame(city_data_dictionary1)\n",
    "lin_reg_df.count()\n",
    "\n",
    "north= (lin_reg_df.loc[lin_reg_df[\"Lat\"] >= 0])\n",
    "north.reset_index(inplace=True)\n",
    "\n",
    "south = (lin_reg_df.loc[lin_reg_df[\"Lat\"] < 0])\n",
    "south.reset_index(inplace=True)\n",
    "\n",
    "def generic_linreg_weather_func(x_val,y_val,x_label,y_label, y_loc):\n",
    "    \n",
    "     (slope, intercept, rvalue, pvalue, stderr) = linregress(x_val, y_val)\n",
    "\n",
    "     regress_values = x_val * slope + intercept\n",
    "     line_eq = \"y = \" + str(round(slope,2)) + \"x + \" + str(round(intercept,2))\n",
    "     plt.scatter(x_val, y_val)\n",
    "     plt.plot(x_val, regress_values,\"r-\")\n",
    "     plt.xlabel(x_label)\n",
    "     plt.ylabel(y_label)\n",
    "     print(f\"The r-squared is: {rvalue**2}\")\n",
    "     plt.grid(True)\n",
    "     plt.annotate(line_eq,y_loc,fontsize=15,color=\"red\")\n",
    "     plt.show()\n"
   ]
  },
  {
   "cell_type": "markdown",
   "metadata": {},
   "source": [
    "####  Northern Hemisphere - Max Temp vs. Latitude Linear Regression"
   ]
  },
  {
   "cell_type": "code",
   "execution_count": 76,
   "metadata": {},
   "outputs": [
    {
     "name": "stdout",
     "output_type": "stream",
     "text": [
      "The r-squared is: 0.7481712783079518\n"
     ]
    },
    {
     "data": {
      "image/png": "[encoded data removed]",
      "text/plain": [
       "<Figure size 432x288 with 1 Axes>"
      ]
     },
     "metadata": {
      "needs_background": "light"
     },
     "output_type": "display_data"
    },
    {
     "data": {
      "text/plain": [
       "<Figure size 432x288 with 0 Axes>"
      ]
     },
     "metadata": {},
     "output_type": "display_data"
    }
   ],
   "source": [
    "y_loc = (10,10)\n",
    "x_label = \"Lat\"\n",
    "y_label = \"Max Temp\"\n",
    "generic_linreg_weather_func(north[x_label],north[y_label], x_label, y_label, y_loc)\n",
    "plt.savefig(\"../output_data/north_latitude_vs_Max_Temp.png\")"
   ]
  },
  {
   "cell_type": "markdown",
   "metadata": {},
   "source": [
    "####  Southern Hemisphere - Max Temp vs. Latitude Linear Regression"
   ]
  },
  {
   "cell_type": "code",
   "execution_count": 78,
   "metadata": {},
   "outputs": [
    {
     "name": "stdout",
     "output_type": "stream",
     "text": [
      "The r-squared is: 0.7924545881506445\n"
     ]
    },
    {
     "data": {
      "image/png": "[encoded data removed]",
      "text/plain": [
       "<Figure size 432x288 with 1 Axes>"
      ]
     },
     "metadata": {
      "needs_background": "light"
     },
     "output_type": "display_data"
    },
    {
     "data": {
      "text/plain": [
       "<Figure size 432x288 with 0 Axes>"
      ]
     },
     "metadata": {},
     "output_type": "display_data"
    }
   ],
   "source": [
    "y_loc = (-25, 45)\n",
    "x_label = \"Lat\"\n",
    "y_label = \"Max Temp\"\n",
    "generic_linreg_weather_func(south[x_label],south[y_label],x_label,y_label, y_loc)\n",
    "plt.savefig(\"../output_data/south_latitude_vs_Max_Temp.png\")"
   ]
  },
  {
   "cell_type": "markdown",
   "metadata": {},
   "source": [
    "####  Northern Hemisphere - Humidity (%) vs. Latitude Linear Regression"
   ]
  },
  {
   "cell_type": "code",
   "execution_count": 79,
   "metadata": {},
   "outputs": [
    {
     "name": "stdout",
     "output_type": "stream",
     "text": [
      "The r-squared is: 0.05701647947421199\n"
     ]
    },
    {
     "data": {
      "image/png": "[encoded data removed]",
      "text/plain": [
       "<Figure size 432x288 with 1 Axes>"
      ]
     },
     "metadata": {
      "needs_background": "light"
     },
     "output_type": "display_data"
    },
    {
     "data": {
      "text/plain": [
       "<Figure size 432x288 with 0 Axes>"
      ]
     },
     "metadata": {},
     "output_type": "display_data"
    }
   ],
   "source": [
    "y_loc = (10,30)\n",
    "x_label = \"Lat\"\n",
    "y_label = \"Humidity\"\n",
    "generic_linreg_weather_func(north[x_label],north[y_label], x_label, y_label, y_loc)\n",
    "plt.savefig(\"../output_data/north_latitude_vs_Humidity.png\")"
   ]
  },
  {
   "cell_type": "markdown",
   "metadata": {},
   "source": [
    "####  Southern Hemisphere - Humidity (%) vs. Latitude Linear Regression"
   ]
  },
  {
   "cell_type": "code",
   "execution_count": 81,
   "metadata": {},
   "outputs": [
    {
     "name": "stdout",
     "output_type": "stream",
     "text": [
      "The r-squared is: 0.016945644966721404\n"
     ]
    },
    {
     "data": {
      "image/png": "[encoded data removed]",
      "text/plain": [
       "<Figure size 432x288 with 1 Axes>"
      ]
     },
     "metadata": {
      "needs_background": "light"
     },
     "output_type": "display_data"
    },
    {
     "data": {
      "text/plain": [
       "<Figure size 432x288 with 0 Axes>"
      ]
     },
     "metadata": {},
     "output_type": "display_data"
    }
   ],
   "source": [
    "y_loc = (-30,55)\n",
    "x_label = \"Lat\"\n",
    "y_label = \"Humidity\"\n",
    "generic_linreg_weather_func(south[x_label],south[y_label], x_label, y_label, y_loc)\n",
    "plt.savefig(\"../output_data/south_latitude_vs_Humidity.png\")"
   ]
  },
  {
   "cell_type": "markdown",
   "metadata": {},
   "source": [
    "####  Northern Hemisphere - Cloudiness (%) vs. Latitude Linear Regression"
   ]
  },
  {
   "cell_type": "code",
   "execution_count": 83,
   "metadata": {},
   "outputs": [
    {
     "name": "stdout",
     "output_type": "stream",
     "text": [
      "The r-squared is: 0.006209966067135631\n"
     ]
    },
    {
     "data": {
      "image/png": "[encoded data removed]",
      "text/plain": [
       "<Figure size 432x288 with 1 Axes>"
      ]
     },
     "metadata": {
      "needs_background": "light"
     },
     "output_type": "display_data"
    },
    {
     "data": {
      "text/plain": [
       "<Figure size 432x288 with 0 Axes>"
      ]
     },
     "metadata": {},
     "output_type": "display_data"
    }
   ],
   "source": [
    "y_loc = (35,25)\n",
    "x_label = \"Lat\"\n",
    "y_label = \"Cloudiness\"\n",
    "generic_linreg_weather_func(north[x_label],north[y_label], x_label, y_label, y_loc)\n",
    "plt.savefig(\"../output_data/north_latitude_vs_cloudiness.png\")"
   ]
  },
  {
   "cell_type": "markdown",
   "metadata": {},
   "source": [
    "####  Southern Hemisphere - Cloudiness (%) vs. Latitude Linear Regression"
   ]
  },
  {
   "cell_type": "code",
   "execution_count": 84,
   "metadata": {},
   "outputs": [
    {
     "name": "stdout",
     "output_type": "stream",
     "text": [
      "The r-squared is: 0.08534958026669694\n"
     ]
    },
    {
     "data": {
      "image/png": "[encoded data removed]",
      "text/plain": [
       "<Figure size 432x288 with 1 Axes>"
      ]
     },
     "metadata": {
      "needs_background": "light"
     },
     "output_type": "display_data"
    },
    {
     "data": {
      "text/plain": [
       "<Figure size 432x288 with 0 Axes>"
      ]
     },
     "metadata": {},
     "output_type": "display_data"
    }
   ],
   "source": [
    "y_loc = (-45,10)\n",
    "x_label = \"Lat\"\n",
    "y_label = \"Cloudiness\"\n",
    "generic_linreg_weather_func(south[x_label],south[y_label], x_label, y_label, y_loc)\n",
    "plt.savefig(\"../output_data/south_latitude_vs_cloudiness.png\")"
   ]
  },
  {
   "cell_type": "markdown",
   "metadata": {},
   "source": [
    "####  Northern Hemisphere - Wind Speed (mph) vs. Latitude Linear Regression"
   ]
  },
  {
   "cell_type": "code",
   "execution_count": 86,
   "metadata": {},
   "outputs": [
    {
     "name": "stdout",
     "output_type": "stream",
     "text": [
      "The r-squared is: 0.12761031283602542\n"
     ]
    },
    {
     "data": {
      "image/png": "[encoded data removed]",
      "text/plain": [
       "<Figure size 432x288 with 1 Axes>"
      ]
     },
     "metadata": {
      "needs_background": "light"
     },
     "output_type": "display_data"
    },
    {
     "data": {
      "text/plain": [
       "<Figure size 432x288 with 0 Axes>"
      ]
     },
     "metadata": {},
     "output_type": "display_data"
    }
   ],
   "source": [
    "y_loc = (5,5)\n",
    "x_label = \"Lat\"\n",
    "y_label = \"Wind Speed\"\n",
    "generic_linreg_weather_func(north[x_label],north[y_label], x_label, y_label, y_loc)\n",
    "plt.savefig(\"../output_data/north_latitude_vs_wind_speed.png\")"
   ]
  },
  {
   "cell_type": "markdown",
   "metadata": {},
   "source": [
    "####  Southern Hemisphere - Wind Speed (mph) vs. Latitude Linear Regression"
   ]
  },
  {
   "cell_type": "code",
   "execution_count": 88,
   "metadata": {},
   "outputs": [
    {
     "name": "stdout",
     "output_type": "stream",
     "text": [
      "The r-squared is: 0.005214998851459801\n"
     ]
    },
    {
     "data": {
      "image/png": "[encoded data removed]",
      "text/plain": [
       "<Figure size 432x288 with 1 Axes>"
      ]
     },
     "metadata": {
      "needs_background": "light"
     },
     "output_type": "display_data"
    },
    {
     "data": {
      "text/plain": [
       "<Figure size 432x288 with 0 Axes>"
      ]
     },
     "metadata": {},
     "output_type": "display_data"
    }
   ],
   "source": [
    "y_loc = (-45,1)\n",
    "x_label = \"Lat\"\n",
    "y_label = \"Wind Speed\"\n",
    "generic_linreg_weather_func(south[x_label],south[y_label], x_label, y_label, y_loc)\n",
    "plt.savefig(\"../output_data/south_latitude_vs_wind_speed.png\")"
   ]
  },
  {
   "cell_type": "code",
   "execution_count": null,
   "metadata": {},
   "outputs": [],
   "source": []
  }
 ],
 "metadata": {
  "anaconda-cloud": {},
  "kernel_info": {
   "name": "python3"
  },
  "kernelspec": {
   "display_name": "PythonData",
   "language": "python",
   "name": "pythondata"
  },
  "language_info": {
   "codemirror_mode": {
    "name": "ipython",
    "version": 3
   },
   "file_extension": ".py",
   "mimetype": "text/x-python",
   "name": "python",
   "nbconvert_exporter": "python",
   "pygments_lexer": "ipython3",
   "version": "3.8.1"
  },
  "latex_envs": {
   "LaTeX_envs_menu_present": true,
   "autoclose": false,
   "autocomplete": true,
   "bibliofile": "biblio.bib",
   "cite_by": "apalike",
   "current_citInitial": 1,
   "eqLabelWithNumbers": true,
   "eqNumInitial": 1,
   "hotkeys": {
    "equation": "Ctrl-E",
    "itemize": "Ctrl-I"
   },
   "labels_anchors": false,
   "latex_user_defs": false,
   "report_style_numbering": false,
   "user_envs_cfg": false
  },
  "nteract": {
   "version": "0.12.3"
  }
 },
 "nbformat": 4,
 "nbformat_minor": 2
}
